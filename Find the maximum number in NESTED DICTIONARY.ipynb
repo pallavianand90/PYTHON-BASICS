{
 "cells": [
  {
   "cell_type": "code",
   "execution_count": null,
   "metadata": {},
   "outputs": [],
   "source": [
    "d = {\"ineuron\" :{ \"a\" : 14,\"b\" : 10,\"c\" : 4},  \"course\" :{\"d\" :45,\"e\" :34,\"f\":1},\"g\" : 34 , \" h \" : [45,6,7,8,9,3] ,  \n",
    "     'i' : (45, 34, 2), 'k' : \"sudh\"}\n",
    "\n",
    "#creating empty list\n",
    "l1 = []\n",
    "\n",
    "# extracting all the integer values from the nested dictionary\n",
    "\n",
    "for i in d.values():\n",
    "    if type(i) == dict:\n",
    "        l1.append(max(i.values()))\n",
    "    elif type(i)== int:\n",
    "        l1.append(i)\n",
    "    elif type(i) == list:\n",
    "        l1.append(max(i))\n",
    "    elif type(i) == tuple:\n",
    "        l1.append(max(i))\n",
    "        \n",
    "        \n",
    "# getting the maximum value           \n",
    "print(max(l1))              \n",
    "              "
   ]
  }
 ],
 "metadata": {
  "kernelspec": {
   "display_name": "Python 3",
   "language": "python",
   "name": "python3"
  },
  "language_info": {
   "codemirror_mode": {
    "name": "ipython",
    "version": 3
   },
   "file_extension": ".py",
   "mimetype": "text/x-python",
   "name": "python",
   "nbconvert_exporter": "python",
   "pygments_lexer": "ipython3",
   "version": "3.6.5"
  }
 },
 "nbformat": 4,
 "nbformat_minor": 2
}
